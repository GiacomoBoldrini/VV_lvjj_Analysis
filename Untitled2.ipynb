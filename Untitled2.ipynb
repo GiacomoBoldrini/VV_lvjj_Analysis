{
 "cells": [
  {
   "cell_type": "code",
   "execution_count": 1,
   "metadata": {},
   "outputs": [
    {
     "name": "stdout",
     "output_type": "stream",
     "text": [
      "Welcome to JupyROOT 6.14/00\n"
     ]
    }
   ],
   "source": [
    "import ROOT as r\n",
    "import sys\n",
    "from array import array\n",
    "from VBSAnalysis.EventIterator import EventIterator\n",
    "from VBSAnalysis.Utils import JetSelectors as jsel\n",
    "from VBSAnalysis import JetTagging \n",
    "import argparse\n",
    "import myplotter as plotter\n",
    "from collections import namedtuple\n",
    "from ROOT import gSystem\n",
    "from ROOT import gStyle\n",
    "from collections import namedtuple\n",
    "from operator import attrgetter, itemgetter\n",
    "from itertools import combinations\n",
    "import math\n",
    "plotter.setStyle()\n",
    "tdrStyle =  r.TStyle(\"tdrStyle\",\"Style for P-TDR\")"
   ]
  },
  {
   "cell_type": "code",
   "execution_count": 20,
   "metadata": {
    "scrolled": false
   },
   "outputs": [
    {
     "name": "stdout",
     "output_type": "stream",
     "text": [
      "[[[1, 2], [3, 4]], [[1, 2], [3, 4]]]\n",
      "[1 2 3 4 1 2 3 4]\n"
     ]
    }
   ],
   "source": [
    "import itertools\n",
    "import numpy as np\n",
    "lista = [[[1,2],[3,4]],[[1,2],[3,4]] ]\n",
    "print(lista)\n",
    "a = np.array(lista)\n",
    "a = np.concatenate(a)\n",
    "a = np.concatenate(a)\n",
    "print(a)"
   ]
  },
  {
   "cell_type": "code",
   "execution_count": 2,
   "metadata": {},
   "outputs": [],
   "source": [
    "f = r.TFile(\"data/ewk_giacomo.root\")"
   ]
  },
  {
   "cell_type": "code",
   "execution_count": 3,
   "metadata": {},
   "outputs": [],
   "source": [
    "cuts = [\n",
    "    (\"pt_min_jets\",30),\n",
    "    (\"min_njets\",4),\n",
    "    #(\"eq_njets\",4),\n",
    "    #(\"eta_max_jets\", 2),\n",
    "    (\"eq_flag\", 0),\n",
    "    #(\"n_events\", 10000),\n",
    "    (\"atleastone_mjj_M\", 250)\n",
    "    \n",
    "]"
   ]
  },
  {
   "cell_type": "code",
   "execution_count": 4,
   "metadata": {},
   "outputs": [],
   "source": [
    "TaggedJets = namedtuple(\"TaggedJets\", [\"vbsjets\", \"vjets\"])\n",
    "TaggedPartons = namedtuple(\"TaggedPartons\", [\"vbsjets\", \"vjets\", \"vbs_pair\", \"w_pair\"])"
   ]
  },
  {
   "cell_type": "code",
   "execution_count": 5,
   "metadata": {},
   "outputs": [],
   "source": [
    "def check_association(event, partons_ids, jets):\n",
    "    '''This function check the event pairings between\n",
    "    partons and jets. It requires the partons indexes and a list of \n",
    "    jet objects'''\n",
    "    pairs = []\n",
    "    for i in partons_ids:\n",
    "        ass_jet = event.paired_jet(i)\n",
    "        ok = False\n",
    "        for j in jets:\n",
    "            if j.IsEqual(ass_jet):\n",
    "                ok = True\n",
    "                break\n",
    "        if not ok: \n",
    "            return False\n",
    "    return True"
   ]
  },
  {
   "cell_type": "code",
   "execution_count": 6,
   "metadata": {},
   "outputs": [],
   "source": [
    "def deltaeta_mw2_pair(jets, th):\n",
    "    l = []\n",
    "    for i ,k  in combinations(range(len(jets)),2):\n",
    "        l.append( ([i,k], abs(jets[i].Eta() - jets[k].Eta())/th, abs(80 - (jets[i]+ jets[k]).M() ) ))\n",
    "    l = sorted(l, key=itemgetter(1), reverse=False)\n",
    "    l1 = []\n",
    "    for i ,k  in combinations(range(len(jets)),2):\n",
    "        l1.append(([i,k], abs(80 - (jets[i]+ jets[k]).M() ), abs(jets[i].Eta() - jets[k].Eta())/th))\n",
    "    l1 = sorted(l1, key=itemgetter(1))\n",
    "    if l[0][0]==l1[0][0]:\n",
    "        return l[0][0]\n",
    "    else:\n",
    "        #cerco di dare un peso alle due variabili sommando le loro distanze dal punto ideale\n",
    "        if (l[0][1]+l[0][2]) > (l1[0][1]+l1[0][2]) :\n",
    "            return l1[0][0]\n",
    "        else:\n",
    "            return l[0][0]"
   ]
  },
  {
   "cell_type": "code",
   "execution_count": 7,
   "metadata": {},
   "outputs": [],
   "source": [
    "def max_mjj_pair(jets):\n",
    "    l = []\n",
    "    for i ,k  in combinations(range(len(jets)),2):\n",
    "        l.append( ([i,k], (jets[i]+ jets[k]).M() ))\n",
    "    l = sorted(l, key=itemgetter(1), reverse=True)\n",
    "    return l[0][0]"
   ]
  },
  {
   "cell_type": "code",
   "execution_count": 8,
   "metadata": {},
   "outputs": [],
   "source": [
    "def nearest_Z_or_W (pts):\n",
    "    \n",
    "    def nearest_Z_partons ( pts):\n",
    "        ''' Returns the pair of jets with Mjj nearest\n",
    "            to Mw '''\n",
    "        l = []\n",
    "        for i ,k  in combinations(range(len(pts)),2):\n",
    "            l.append(([i,k], abs(91 - (pts[i]+ pts[k]).M() )))\n",
    "        l = sorted(l, key=itemgetter(1))\n",
    "        return l[0]\n",
    "    \n",
    "    def nearest_W_partons(pts): \n",
    "        ''' Returns the pair of jets with Mjj nearest\n",
    "        to Mw '''\n",
    "        l = []\n",
    "        for i ,k  in combinations(range(len(pts)),2):\n",
    "            l.append(([i,k], abs(80 - (pts[i]+ pts[k]).M() )))\n",
    "        l = sorted(l, key=itemgetter(1))\n",
    "        return l[0]\n",
    "    \n",
    "    z = nearest_Z_partons(pts)\n",
    "    w = nearest_W_partons(pts)\n",
    "    if z[1] > w[1]:\n",
    "        return w[0]\n",
    "    else:\n",
    "        return z[0]"
   ]
  },
  {
   "cell_type": "code",
   "execution_count": 9,
   "metadata": {},
   "outputs": [],
   "source": [
    "def strategy_partons2(pts):\n",
    "    c = [0,1,2,3]\n",
    "    partons = pts.copy()  #duplicate the jets\n",
    "    w_pair = nearest_Z_or_W(partons)\n",
    "    #always remove one because the second element on mjj_pair\n",
    "    # is after the first one\n",
    "    vpartons = [ partons.pop(w_pair[0]), partons.pop(w_pair[1]-1)]\n",
    "    c.pop(w_pair[0])\n",
    "    c.pop(w_pair[1]-1)\n",
    "    # W jet by closest mass to W\n",
    "    vbs_pair = c\n",
    "    vbspartons = [ partons[0], partons[1] ]\n",
    "    # Return the result\n",
    "    return TaggedPartons(vbspartons, vpartons, vbs_pair, w_pair)"
   ]
  },
  {
   "cell_type": "code",
   "execution_count": 10,
   "metadata": {},
   "outputs": [],
   "source": [
    "def strategy_Weta_mjj(jts, th):\n",
    "    jets = jts.copy()  #duplicate the jets\n",
    "    w_pair = deltaeta_mw2_pair(jets, th)\n",
    "    #always remove one because the second element on mjj_pair\n",
    "    # is after the first one\n",
    "    vjets = [ jets.pop(w_pair[0]), jets.pop(w_pair[1]-1)]\n",
    "    #selected max deltaeta pair\n",
    "    vbs_pair = jsel.max_mjj_pair(jets)\n",
    "    vbsjets = [ jets.pop(vbs_pair[0]), jets.pop(vbs_pair[1]-1)]\n",
    "    # Return the result\n",
    "    return TaggedJets(vbsjets, vjets)"
   ]
  },
  {
   "cell_type": "code",
   "execution_count": 15,
   "metadata": {},
   "outputs": [],
   "source": [
    "l = []\n",
    "th = 0.1\n",
    "while th < 0.2:\n",
    "    cwrt=0\n",
    "    cwrg=0\n",
    "    for evento in EventIterator(f,criteria = cuts, pairing = True) :\n",
    "        #pairing = True quindi PairingTreeDriver\n",
    "        #applichiamo la strategia sia ai partoni che ai getti per vedere il rendimento della strategia\n",
    "        partons_pair1 = strategy_partons2(evento.partons)\n",
    "        jets_pair1 = strategy_Weta_mjj(evento.jets, th)\n",
    "        associazione = JetTagging.check_association(evento, partons_pair1.vbs_pair, jets_pair1.vbsjets)\n",
    "        associazione2 = JetTagging.check_association(evento, partons_pair1.w_pair, jets_pair1.vjets)\n",
    "        \"\"\"\n",
    "        if associazione:\n",
    "            #due getti con massimo pt indici corrispondono a partoni\n",
    "            h_mjj_maxpt_mjj.Fill((jets_pair1.vbsjets[0]+jets_pair1.vbsjets[1]).M())\n",
    "        else:\n",
    "            #due getti con massimo pt indici NON corrispondono a partoni\n",
    "            h_mjj_maxpt_mjj_bad.Fill((jets_pair1.vbsjets[0]+jets_pair1.vbsjets[1]).M())\n",
    "        if associazione2:\n",
    "            #due getti con massa invariante più grande indici corrispondono a partoni\n",
    "            h_mjj_maxpt_maxpt.Fill((jets_pair1.vjets[0]+jets_pair1.vjets[1]).M())\n",
    "        else:\n",
    "             #due getti con massa invariante più grande indici NON corrispondono a partoni\n",
    "            h_mjj_maxpt_maxpt_bad.Fill((jets_pair1.vjets[0]+jets_pair1.vjets[1]).M())\n",
    "        \"\"\"\n",
    "        if associazione and associazione2:\n",
    "            cwrt = cwrt +1\n",
    "        else:\n",
    "            cwrg = cwrg +1\n",
    "    eff = cwrt/(cwrt+cwrg)\n",
    "    l.append([th, eff])\n",
    "    th += 0.1\n",
    "    th = round(th, 1)"
   ]
  },
  {
   "cell_type": "code",
   "execution_count": 16,
   "metadata": {},
   "outputs": [
    {
     "name": "stdout",
     "output_type": "stream",
     "text": [
      "[[0.1, 0.6786815457739203]]\n"
     ]
    }
   ],
   "source": [
    "l = sorted(l, key = itemgetter(1), reverse = True)\n",
    "print(l)"
   ]
  },
  {
   "cell_type": "code",
   "execution_count": null,
   "metadata": {},
   "outputs": [],
   "source": [
    "[0.5, 0.6793023351932217]\n",
    "[0.2, 0.6806116966315354]"
   ]
  },
  {
   "cell_type": "code",
   "execution_count": null,
   "metadata": {},
   "outputs": [],
   "source": []
  },
  {
   "cell_type": "code",
   "execution_count": null,
   "metadata": {},
   "outputs": [],
   "source": []
  }
 ],
 "metadata": {
  "kernelspec": {
   "display_name": "Python 3",
   "language": "python",
   "name": "python3"
  },
  "language_info": {
   "codemirror_mode": {
    "name": "ipython",
    "version": 3
   },
   "file_extension": ".py",
   "mimetype": "text/x-python",
   "name": "python",
   "nbconvert_exporter": "python",
   "pygments_lexer": "ipython3",
   "version": "3.6.5"
  }
 },
 "nbformat": 4,
 "nbformat_minor": 2
}
